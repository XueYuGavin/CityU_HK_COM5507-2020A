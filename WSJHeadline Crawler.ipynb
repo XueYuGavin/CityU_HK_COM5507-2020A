{
 "cells": [
  {
   "cell_type": "code",
   "execution_count": 1,
   "metadata": {},
   "outputs": [],
   "source": [
    "import time"
   ]
  },
  {
   "cell_type": "code",
   "execution_count": 2,
   "metadata": {},
   "outputs": [],
   "source": [
    "import requests"
   ]
  },
  {
   "cell_type": "code",
   "execution_count": 3,
   "metadata": {},
   "outputs": [],
   "source": [
    "from selenium import webdriver"
   ]
  },
  {
   "cell_type": "code",
   "execution_count": 4,
   "metadata": {},
   "outputs": [],
   "source": [
    "keywords=[\"female\",\"women\",'sexism']"
   ]
  },
  {
   "cell_type": "code",
   "execution_count": 5,
   "metadata": {},
   "outputs": [],
   "source": [
    "weburl=\"https://www.wsj.com/search?query={word}&page={page}\""
   ]
  },
  {
   "cell_type": "code",
   "execution_count": 6,
   "metadata": {},
   "outputs": [],
   "source": [
    "executable_path='/Users/gavin/opt/anaconda3/chromedriver'"
   ]
  },
  {
   "cell_type": "code",
   "execution_count": 8,
   "metadata": {},
   "outputs": [],
   "source": [
    "options=webdriver.ChromeOptions()"
   ]
  },
  {
   "cell_type": "code",
   "execution_count": 9,
   "metadata": {},
   "outputs": [],
   "source": [
    "options.add_argument('--headless')"
   ]
  },
  {
   "cell_type": "code",
   "execution_count": 18,
   "metadata": {},
   "outputs": [],
   "source": [
    "driver=webdriver.Chrome(options=options,executable_path=executable_path)"
   ]
  },
  {
   "cell_type": "code",
   "execution_count": 19,
   "metadata": {},
   "outputs": [
    {
     "name": "stdout",
     "output_type": "stream",
     "text": [
      "keyword:female page:1\n",
      "keyword:women page:1\n",
      "keyword:sexism page:1\n"
     ]
    }
   ],
   "source": [
    "for word in keywords:\n",
    "    file=open(f\"wsj_{word}\",'w',encoding=\"utf-8\")\n",
    "    page=1\n",
    "    while True:\n",
    "        url=url=weburl.format(word=keywords, page=page)\n",
    "        driver.get(url)\n",
    "        time.sleep(5)\n",
    "        line=driver.find_elements_by_xpath(\"//article//h3/a\")\n",
    "        if len(line)==0:\n",
    "            break\n",
    "        print(f\"keyword:{word} page:{page}\")\n",
    "        for e in line:\n",
    "            headline=e.text\n",
    "            file.write(headline+\"\\n\")\n",
    "            file.flush()\n",
    "        page+=1"
   ]
  },
  {
   "cell_type": "code",
   "execution_count": 21,
   "metadata": {},
   "outputs": [],
   "source": [
    "driver.quit()"
   ]
  }
 ],
 "metadata": {
  "kernelspec": {
   "display_name": "Python 3",
   "language": "python",
   "name": "python3"
  },
  "language_info": {
   "codemirror_mode": {
    "name": "ipython",
    "version": 3
   },
   "file_extension": ".py",
   "mimetype": "text/x-python",
   "name": "python",
   "nbconvert_exporter": "python",
   "pygments_lexer": "ipython3",
   "version": "3.7.7"
  }
 },
 "nbformat": 4,
 "nbformat_minor": 4
}
