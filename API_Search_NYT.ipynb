{
 "cells": [
  {
   "cell_type": "code",
   "execution_count": 1,
   "metadata": {},
   "outputs": [],
   "source": [
    "import requests"
   ]
  },
  {
   "cell_type": "code",
   "execution_count": 2,
   "metadata": {},
   "outputs": [],
   "source": [
    "link=requests.get(\"https://api.nytimes.com/svc/search/v2/articlesearch.json?begin_date=20170120&end_date=20201104&fl=headline&fq=sexism&page=5&q=sexism&sort=newest&api-key=VszlmVUfAeh2G8afE6wnuy2wOTUUGGRQ\")"
   ]
  },
  {
   "cell_type": "code",
   "execution_count": 3,
   "metadata": {},
   "outputs": [],
   "source": [
    "result=link.json()"
   ]
  },
  {
   "cell_type": "code",
   "execution_count": 4,
   "metadata": {},
   "outputs": [
    {
     "name": "stdout",
     "output_type": "stream",
     "text": [
      "{'status': 'OK', 'copyright': 'Copyright (c) 2020 The New York Times Company. All Rights Reserved.', 'response': {'docs': [{'headline': {'main': 'The Housewife Who Was a Spy', 'kicker': 'nonfiction', 'content_kicker': None, 'print_headline': 'Mother, Lover, Spy', 'name': None, 'seo': None, 'sub': None}}, {'headline': {'main': 'Minnesota Seemed Ripe for a Trump Breakout. It Has Not Arrived.', 'kicker': None, 'content_kicker': None, 'print_headline': 'G.O.P. Support Wobbling, Trump’s Hopes to Flip Minnesota Dim', 'name': None, 'seo': None, 'sub': None}}, {'headline': {'main': 'Shere Hite, Who Challenged Myths of Female Sexuality, Dies at 77', 'kicker': None, 'content_kicker': None, 'print_headline': 'Shere Hite, Who Challenged Myths About Female Sexuality, Dies at 77', 'name': None, 'seo': None, 'sub': None}}, {'headline': {'main': 'Comfort Viewing: 3 Reasons I Love ‘Three’s Company’', 'kicker': None, 'content_kicker': None, 'print_headline': 'Welcome Back,  Silly Comforts And Pratfalls', 'name': None, 'seo': None, 'sub': None}}, {'headline': {'main': 'Black Police Chiefs, Feeling Squeezed, Face Criticism on All Sides', 'kicker': None, 'content_kicker': None, 'print_headline': 'Time of Unrest  Adds to Burden On Black Chiefs', 'name': None, 'seo': None, 'sub': None}}, {'headline': {'main': 'Joan Feynman, Who Shined Light on the Aurora Borealis, Dies at 93', 'kicker': None, 'content_kicker': None, 'print_headline': 'Joan Feynman, Who Shined Light on the Aurora Borealis, Is Dead at 93', 'name': None, 'seo': None, 'sub': None}}, {'headline': {'main': '‘I Am Woman’ Review: Singing Against Sexism', 'kicker': None, 'content_kicker': None, 'print_headline': 'I Am Woman', 'name': None, 'seo': None, 'sub': None}}, {'headline': {'main': 'Refinery29 Finds Next Top Editor at Facebook', 'kicker': None, 'content_kicker': None, 'print_headline': 'Veteran Digital Editor to Lead Refinery29', 'name': None, 'seo': None, 'sub': None}}, {'headline': {'main': 'New & Noteworthy, From the Rubik’s Cube to the Deep South', 'kicker': None, 'content_kicker': None, 'print_headline': 'New &amp; Noteworthy', 'name': None, 'seo': None, 'sub': None}}, {'headline': {'main': 'The Forgotten History of the Radical ‘Elders of the Tribe’', 'kicker': None, 'content_kicker': None, 'print_headline': ' Forgotten History of the Gray Panthers', 'name': None, 'seo': None, 'sub': None}}], 'meta': {'hits': 1543, 'offset': 50, 'time': 24}}}\n"
     ]
    }
   ],
   "source": [
    "print(result)"
   ]
  },
  {
   "cell_type": "code",
   "execution_count": null,
   "metadata": {},
   "outputs": [],
   "source": []
  }
 ],
 "metadata": {
  "kernelspec": {
   "display_name": "Python 3",
   "language": "python",
   "name": "python3"
  },
  "language_info": {
   "codemirror_mode": {
    "name": "ipython",
    "version": 3
   },
   "file_extension": ".py",
   "mimetype": "text/x-python",
   "name": "python",
   "nbconvert_exporter": "python",
   "pygments_lexer": "ipython3",
   "version": "3.7.7"
  }
 },
 "nbformat": 4,
 "nbformat_minor": 4
}
